{
 "cells": [
  {
   "cell_type": "markdown",
   "metadata": {},
   "source": [
    "## Libraries"
   ]
  },
  {
   "cell_type": "code",
   "execution_count": null,
   "metadata": {},
   "outputs": [],
   "source": [
    "import numpy as np\n",
    "import pandas as pd\n",
    "import seaborn as sns\n",
    "import matplotlib.pyplot as plt\n",
    "import cx_Oracle\n",
    "from sklearn import preprocessing\n",
    "import scipy as sp\n",
    "from sklearn.cluster import KMeans"
   ]
  },
  {
   "cell_type": "markdown",
   "metadata": {},
   "source": [
    "## Data Prep"
   ]
  },
  {
   "cell_type": "code",
   "execution_count": null,
   "metadata": {},
   "outputs": [],
   "source": [
    "########### Reading Data set ############################################################\n",
    "covid=pd.read_csv(r\"C:\\Users\\TCOSDEMIR\\Desktop\\Digital Masters\\covid-tests-cases-deaths.csv\")"
   ]
  },
  {
   "cell_type": "code",
   "execution_count": null,
   "metadata": {},
   "outputs": [],
   "source": [
    "########### Data Type Tuning & filling N/A ############################################################\n",
    "covid.Date=pd.to_datetime(covid.Date)\n",
    "\n",
    "covid.Death.fillna(0,inplace=True)\n",
    "covid.Death=covid.Death.astype(\"int\")\n",
    "\n",
    "covid.Case.fillna(0,inplace=True)\n",
    "covid.Case=covid.Case.astype(\"int\")\n",
    "\n",
    "covid.GDP=pd.DataFrame(covid.GDP).astype(\"int64\")\n",
    "covid.Population=pd.DataFrame(covid.Population).astype(\"int64\")"
   ]
  },
  {
   "cell_type": "markdown",
   "metadata": {},
   "source": [
    "## Analyze the data"
   ]
  },
  {
   "cell_type": "code",
   "execution_count": null,
   "metadata": {},
   "outputs": [],
   "source": [
    "###### Test numbers & Case Correlation ###########################\n",
    "covid_corr=covid.groupby(\"Country\").max().reset_index().dropna()\n",
    "covid_corr[[\"Test\",\"Death\",\"Case\",\"GDP\",\"Population\"]]=np.log(covid_corr[[\"Test\",\"Death\",\"Case\",\"GDP\",\"Population\"]])\n",
    "\n",
    "sns.set(font_scale = 2)\n",
    "plt.figure(figsize=(10,8))\n",
    "ax = sns.regplot(x=\"Test\", y=\"GDP\", data=covid_corr)\n"
   ]
  },
  {
   "cell_type": "code",
   "execution_count": null,
   "metadata": {},
   "outputs": [],
   "source": [
    "# Correlaiton coefficient btw metrics\n",
    "covid.groupby(\"Country\").max().reset_index().dropna().corr()"
   ]
  },
  {
   "cell_type": "markdown",
   "metadata": {},
   "source": [
    "## Imputation"
   ]
  },
  {
   "cell_type": "code",
   "execution_count": null,
   "metadata": {},
   "outputs": [],
   "source": [
    "# It shows us there is strong correlation test btw case so we can impute N/A test metrics\n",
    "\n",
    "# We need to found a ratio for every country related to case\n",
    "df=covid.groupby(\"Country\").max().reset_index().dropna()\n",
    "ratio=pd.DataFrame()\n",
    "ratio[\"Country\"]=df.Country\n",
    "ratio[\"ratio\"]=df.Case/df.Test\n",
    "\n",
    "# Now we can impute tihs ratio to every day country by country\n",
    "covid_new=covid.merge(ratio,on=\"Country\",how=\"inner\")\n",
    "covid_new.Test[covid_new.Test.isna()]=covid_new.Case[covid_new.Test.isna()]/covid_new.ratio[covid_new.Test.isna()]\n",
    "\n",
    "# Adding GDP per capita \n",
    "covid_new[\"GDP_per_capita\"]=(covid_new.GDP/covid_new.Population).astype(\"int\")\n",
    "\n",
    "# Test per GDP\n",
    "\n",
    "covid_new[\"Test_perf\"]=covid_new.Test/covid_new.GDP_per_capita"
   ]
  },
  {
   "cell_type": "markdown",
   "metadata": {},
   "source": [
    "## Modelling the data"
   ]
  },
  {
   "cell_type": "code",
   "execution_count": null,
   "metadata": {},
   "outputs": [],
   "source": [
    "import statsmodels.api as sm\n",
    "from sklearn.model_selection import train_test_split,cross_val_score,cross_val_predict\n",
    "\n",
    "df=covid.groupby(\"Country\").max().reset_index().dropna()\n",
    "\n",
    "X=df.iloc[:,2:].drop(\"Death\",axis=1)\n",
    "y=df.Death\n",
    "X=sm.add_constant(X)\n",
    "\n",
    "\n",
    "X_train,X_test,y_train,y_test = train_test_split(X,y,test_size=0.2, random_state=42)\n",
    "\n",
    "\n",
    "\n",
    "lm = sm.OLS(y,X)\n",
    "model=lm.fit()\n",
    "model.summary()"
   ]
  },
  {
   "cell_type": "markdown",
   "metadata": {},
   "source": [
    "## Visualization"
   ]
  },
  {
   "cell_type": "code",
   "execution_count": null,
   "metadata": {},
   "outputs": [],
   "source": [
    "sns.set(font_scale = 3)\n",
    "plt.figure(figsize=(30,16))\n",
    "ax = sns.barplot(x=\"Country\", y=\"Test\",palette=\"Blues\", data=covid_new[(covid_new.Population>10000000) & (covid_new.Date==\"2020-04-13\") & (covid_new.Case>10000)].sort_values(by=\"Test\"))\n",
    "ax.set_xticklabels(ax.get_xticklabels(), rotation=45)\n",
    "plt.tight_layout()\n",
    "plt.savefig(\"test_output.png\");"
   ]
  },
  {
   "cell_type": "code",
   "execution_count": null,
   "metadata": {},
   "outputs": [],
   "source": []
  },
  {
   "cell_type": "code",
   "execution_count": null,
   "metadata": {},
   "outputs": [],
   "source": []
  }
 ],
 "metadata": {
  "kernelspec": {
   "display_name": "Python 3",
   "language": "python",
   "name": "python3"
  },
  "language_info": {
   "codemirror_mode": {
    "name": "ipython",
    "version": 3
   },
   "file_extension": ".py",
   "mimetype": "text/x-python",
   "name": "python",
   "nbconvert_exporter": "python",
   "pygments_lexer": "ipython3",
   "version": "3.7.4"
  }
 },
 "nbformat": 4,
 "nbformat_minor": 4
}
